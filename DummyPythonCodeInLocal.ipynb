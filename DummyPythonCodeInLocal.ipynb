{
 "cells": [
  {
   "cell_type": "code",
   "execution_count": null,
   "metadata": {},
   "outputs": [],
   "source": [
    "#IDEA: Push code from local to github\n",
    "\n",
    "#STEPS: to remember/ Four operations need to be performed : \n",
    "#1  Convert into Git file \n",
    "#2. Add files (Step necessary before commit)\n",
    "#3. Commit file \n",
    "#4. Push File (To be visible in github)\n",
    "\n",
    "#CONTEXT\n",
    "\n",
    "#This is a dummy file I created in my local after cloning an empty repository from github.\n",
    "#Steps done: Created a new repo in github : Learning to Interface Git\n",
    "#Cloned the repository using command : git clone \"Link of repo\"\n",
    "#I am now pretending to code everything in my local machine and shall push this as a commit in my github repository to understand how it works.\n",
    "#I see a \"U\" beside the file name in file explorer window which means this file is unchanged and is being created in my local for the first time.\n",
    "\n",
    "\n",
    "#1  Convert into Git file :\n",
    "#Commands to remember:\n",
    "# ls -a         : Check status\n",
    "# git init      : .git file conversion\n",
    "\n",
    "#I will now check the status of this file in my terminal using ls -a command(Left bottom -- terminal in bash terminal only).\n",
    "#After executing ls -a, I see that the file already has .git file, if not I would have used : git init   This command converts it into git file.\n",
    "#Now that the file is a git file we can perform git operations on it.\n",
    "#We can check the status of the files using the command : git status       Currently it shows \"Untracked Files\"\n",
    "\n",
    "# ________________________________________________________________________________________________________\n",
    "\n",
    "#2 Add files (Step necessary before commit)\n",
    "# Commands to remember:\n",
    "\n",
    "# git remote add origin <link of repo>        : Creates an alias origin to the remote repo.\n",
    "# git remote -v                               : Helps us understand which remote is ready to be pushed\n",
    "# git push                                    : Helps us understand which branch we are currently in \n",
    "# git branch -M main \n",
    "\n",
    "\n",
    "\n",
    "\n",
    "\n",
    "\n",
    "\n",
    "\n",
    "\n",
    "\n"
   ]
  }
 ],
 "metadata": {
  "language_info": {
   "name": "python"
  }
 },
 "nbformat": 4,
 "nbformat_minor": 2
}
