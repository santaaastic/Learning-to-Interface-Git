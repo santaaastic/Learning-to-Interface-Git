#IDEA: Already existing Code in Github to be taken(cloned) to VS Code, modified and recommited to Github


#Dummy Code
num1 = 5
num2 = 3
# Calculate the sum
sum_result = num1 + num2

# Print the result
print("The sum of", num1, "and", num2, "is:", sum_result)

